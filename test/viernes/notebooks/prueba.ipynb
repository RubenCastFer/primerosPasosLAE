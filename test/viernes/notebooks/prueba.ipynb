{
 "cells": [
  {
   "cell_type": "code",
   "execution_count": 2,
   "metadata": {},
   "outputs": [
    {
     "data": {
      "text/plain": [
       "<Figure size 640x480 with 0 Axes>"
      ]
     },
     "metadata": {},
     "output_type": "display_data"
    },
    {
     "data": {
      "image/png": "[encoded data removed]",
      "text/plain": [
       "<Figure size 480x480 with 1 Axes>"
      ]
     },
     "metadata": {},
     "output_type": "display_data"
    },
    {
     "name": "stdout",
     "output_type": "stream",
     "text": [
      "[0 1 2 ... 8 9 8]\n"
     ]
    }
   ],
   "source": [
    "from sklearn.datasets import load_digits\n",
    "import matplotlib.pyplot as plt\n",
    "\n",
    "digits = load_digits()\n",
    "plt.gray()\n",
    "#imprimir la tercera imagen de la colección\n",
    "plt.matshow(digits.images[2]) \n",
    "plt.show()\n",
    "print(digits.target)"
   ]
  },
  {
   "cell_type": "code",
   "execution_count": 3,
   "metadata": {},
   "outputs": [],
   "source": [
    "# preproceso: de imágenes a vectores \n",
    "n_imagenes = len(digits.images)\n",
    "data = digits.images.reshape(n_imagenes, -1) # -1 significa colocar los datos en forma de vector\n",
    "\n"
   ]
  },
  {
   "cell_type": "code",
   "execution_count": 4,
   "metadata": {},
   "outputs": [],
   "source": [
    "from sklearn import svm, metrics\n",
    "from sklearn.model_selection import train_test_split\n",
    "\n",
    "# división entre entrenamiento  y testeo\n",
    "X_train, X_test, y_train, y_test = train_test_split(\n",
    "    data, digits.target, test_size=0.8, shuffle=True)\n",
    "# crear/definir el clasificador\n",
    "clf = svm.SVC(gamma=0.001)\n",
    "# entrenamiento del modelo\n",
    "clf.fit(X_train, y_train)\n",
    "# prediccion sobre test\n",
    "predicted = clf.predict(X_test)"
   ]
  },
  {
   "cell_type": "code",
   "execution_count": 5,
   "metadata": {},
   "outputs": [
    {
     "name": "stdout",
     "output_type": "stream",
     "text": [
      "Informe de clasificación:\n",
      "              precision    recall  f1-score   support\n",
      "\n",
      "           0       1.00      0.99      1.00       137\n",
      "           1       0.92      0.99      0.96       141\n",
      "           2       0.99      0.99      0.99       137\n",
      "           3       0.99      0.94      0.96       156\n",
      "           4       0.99      0.97      0.98       154\n",
      "           5       0.98      0.97      0.97       140\n",
      "           6       0.99      0.98      0.99       142\n",
      "           7       0.91      0.99      0.95       145\n",
      "           8       0.93      0.94      0.93       139\n",
      "           9       0.98      0.90      0.94       147\n",
      "\n",
      "    accuracy                           0.97      1438\n",
      "   macro avg       0.97      0.97      0.97      1438\n",
      "weighted avg       0.97      0.97      0.97      1438\n",
      "\n",
      "\n"
     ]
    }
   ],
   "source": [
    "# Evaluación\n",
    "print(f\"Informe de clasificación:\\n\"\n",
    "      f\"{metrics.classification_report(y_test, predicted)}\\n\")\n"
   ]
  },
  {
   "cell_type": "code",
   "execution_count": 6,
   "metadata": {},
   "outputs": [
    {
     "data": {
      "image/png": "[encoded data removed]",
      "text/plain": [
       "<Figure size 1000x300 with 5 Axes>"
      ]
     },
     "metadata": {},
     "output_type": "display_data"
    }
   ],
   "source": [
    "# Visualización\n",
    "_, axes = plt.subplots(nrows=1, ncols=5, figsize=(10, 3))\n",
    "for ax, image, prediction in zip(axes, X_test, predicted):\n",
    "    ax.set_axis_off()\n",
    "    image = image.reshape(8, 8)\n",
    "    ax.imshow(image, cmap=plt.cm.gray_r, interpolation='nearest')\n",
    "    ax.set_title(f'Predicción: {prediction}')"
   ]
  }
 ],
 "metadata": {
  "kernelspec": {
   "display_name": ".venv",
   "language": "python",
   "name": "python3"
  },
  "language_info": {
   "codemirror_mode": {
    "name": "ipython",
    "version": 3
   },
   "file_extension": ".py",
   "mimetype": "text/x-python",
   "name": "python",
   "nbconvert_exporter": "python",
   "pygments_lexer": "ipython3",
   "version": "3.9.15 (main, Nov 24 2022, 14:31:59) \n[GCC 11.2.0]"
  },
  "orig_nbformat": 4,
  "vscode": {
   "interpreter": {
    "hash": "8abbc8ae521b68432ed66162eb4b2c720d37e71aecc9177da407a51756fbcd3f"
   }
  }
 },
 "nbformat": 4,
 "nbformat_minor": 2
}
