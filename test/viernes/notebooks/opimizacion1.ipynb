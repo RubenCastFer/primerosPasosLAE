{
 "cells": [
  {
   "cell_type": "code",
   "execution_count": 390,
   "metadata": {},
   "outputs": [],
   "source": [
    "import pandas as pd\n",
    "import numpy as np"
   ]
  },
  {
   "cell_type": "code",
   "execution_count": 391,
   "metadata": {},
   "outputs": [
    {
     "name": "stdout",
     "output_type": "stream",
     "text": [
      "7043\n"
     ]
    },
    {
     "data": {
      "text/html": [
       "<div>\n",
       "<style scoped>\n",
       "    .dataframe tbody tr th:only-of-type {\n",
       "        vertical-align: middle;\n",
       "    }\n",
       "\n",
       "    .dataframe tbody tr th {\n",
       "        vertical-align: top;\n",
       "    }\n",
       "\n",
       "    .dataframe thead th {\n",
       "        text-align: right;\n",
       "    }\n",
       "</style>\n",
       "<table border=\"1\" class=\"dataframe\">\n",
       "  <thead>\n",
       "    <tr style=\"text-align: right;\">\n",
       "      <th></th>\n",
       "      <th>0</th>\n",
       "      <th>1</th>\n",
       "      <th>2</th>\n",
       "      <th>3</th>\n",
       "      <th>4</th>\n",
       "    </tr>\n",
       "  </thead>\n",
       "  <tbody>\n",
       "    <tr>\n",
       "      <th>customerID</th>\n",
       "      <td>7590-VHVEG</td>\n",
       "      <td>5575-GNVDE</td>\n",
       "      <td>3668-QPYBK</td>\n",
       "      <td>7795-CFOCW</td>\n",
       "      <td>9237-HQITU</td>\n",
       "    </tr>\n",
       "    <tr>\n",
       "      <th>gender</th>\n",
       "      <td>Female</td>\n",
       "      <td>Male</td>\n",
       "      <td>Male</td>\n",
       "      <td>Male</td>\n",
       "      <td>Female</td>\n",
       "    </tr>\n",
       "    <tr>\n",
       "      <th>SeniorCitizen</th>\n",
       "      <td>0</td>\n",
       "      <td>0</td>\n",
       "      <td>0</td>\n",
       "      <td>0</td>\n",
       "      <td>0</td>\n",
       "    </tr>\n",
       "    <tr>\n",
       "      <th>Partner</th>\n",
       "      <td>Yes</td>\n",
       "      <td>No</td>\n",
       "      <td>No</td>\n",
       "      <td>No</td>\n",
       "      <td>No</td>\n",
       "    </tr>\n",
       "    <tr>\n",
       "      <th>Dependents</th>\n",
       "      <td>No</td>\n",
       "      <td>No</td>\n",
       "      <td>No</td>\n",
       "      <td>No</td>\n",
       "      <td>No</td>\n",
       "    </tr>\n",
       "    <tr>\n",
       "      <th>tenure</th>\n",
       "      <td>1</td>\n",
       "      <td>34</td>\n",
       "      <td>2</td>\n",
       "      <td>45</td>\n",
       "      <td>2</td>\n",
       "    </tr>\n",
       "    <tr>\n",
       "      <th>PhoneService</th>\n",
       "      <td>No</td>\n",
       "      <td>Yes</td>\n",
       "      <td>Yes</td>\n",
       "      <td>No</td>\n",
       "      <td>Yes</td>\n",
       "    </tr>\n",
       "    <tr>\n",
       "      <th>MultipleLines</th>\n",
       "      <td>No phone service</td>\n",
       "      <td>No</td>\n",
       "      <td>No</td>\n",
       "      <td>No phone service</td>\n",
       "      <td>No</td>\n",
       "    </tr>\n",
       "    <tr>\n",
       "      <th>InternetService</th>\n",
       "      <td>DSL</td>\n",
       "      <td>DSL</td>\n",
       "      <td>DSL</td>\n",
       "      <td>DSL</td>\n",
       "      <td>Fiber optic</td>\n",
       "    </tr>\n",
       "    <tr>\n",
       "      <th>OnlineSecurity</th>\n",
       "      <td>No</td>\n",
       "      <td>Yes</td>\n",
       "      <td>Yes</td>\n",
       "      <td>Yes</td>\n",
       "      <td>No</td>\n",
       "    </tr>\n",
       "    <tr>\n",
       "      <th>OnlineBackup</th>\n",
       "      <td>Yes</td>\n",
       "      <td>No</td>\n",
       "      <td>Yes</td>\n",
       "      <td>No</td>\n",
       "      <td>No</td>\n",
       "    </tr>\n",
       "    <tr>\n",
       "      <th>DeviceProtection</th>\n",
       "      <td>No</td>\n",
       "      <td>Yes</td>\n",
       "      <td>No</td>\n",
       "      <td>Yes</td>\n",
       "      <td>No</td>\n",
       "    </tr>\n",
       "    <tr>\n",
       "      <th>TechSupport</th>\n",
       "      <td>No</td>\n",
       "      <td>No</td>\n",
       "      <td>No</td>\n",
       "      <td>Yes</td>\n",
       "      <td>No</td>\n",
       "    </tr>\n",
       "    <tr>\n",
       "      <th>StreamingTV</th>\n",
       "      <td>No</td>\n",
       "      <td>No</td>\n",
       "      <td>No</td>\n",
       "      <td>No</td>\n",
       "      <td>No</td>\n",
       "    </tr>\n",
       "    <tr>\n",
       "      <th>StreamingMovies</th>\n",
       "      <td>No</td>\n",
       "      <td>No</td>\n",
       "      <td>No</td>\n",
       "      <td>No</td>\n",
       "      <td>No</td>\n",
       "    </tr>\n",
       "    <tr>\n",
       "      <th>Contract</th>\n",
       "      <td>Month-to-month</td>\n",
       "      <td>One year</td>\n",
       "      <td>Month-to-month</td>\n",
       "      <td>One year</td>\n",
       "      <td>Month-to-month</td>\n",
       "    </tr>\n",
       "    <tr>\n",
       "      <th>PaperlessBilling</th>\n",
       "      <td>Yes</td>\n",
       "      <td>No</td>\n",
       "      <td>Yes</td>\n",
       "      <td>No</td>\n",
       "      <td>Yes</td>\n",
       "    </tr>\n",
       "    <tr>\n",
       "      <th>PaymentMethod</th>\n",
       "      <td>Electronic check</td>\n",
       "      <td>Mailed check</td>\n",
       "      <td>Mailed check</td>\n",
       "      <td>Bank transfer (automatic)</td>\n",
       "      <td>Electronic check</td>\n",
       "    </tr>\n",
       "    <tr>\n",
       "      <th>MonthlyCharges</th>\n",
       "      <td>29.85</td>\n",
       "      <td>56.95</td>\n",
       "      <td>53.85</td>\n",
       "      <td>42.3</td>\n",
       "      <td>70.7</td>\n",
       "    </tr>\n",
       "    <tr>\n",
       "      <th>TotalCharges</th>\n",
       "      <td>29.85</td>\n",
       "      <td>1889.5</td>\n",
       "      <td>108.15</td>\n",
       "      <td>1840.75</td>\n",
       "      <td>151.65</td>\n",
       "    </tr>\n",
       "    <tr>\n",
       "      <th>Churn</th>\n",
       "      <td>No</td>\n",
       "      <td>No</td>\n",
       "      <td>Yes</td>\n",
       "      <td>No</td>\n",
       "      <td>Yes</td>\n",
       "    </tr>\n",
       "  </tbody>\n",
       "</table>\n",
       "</div>"
      ],
      "text/plain": [
       "                                 0             1               2  \\\n",
       "customerID              7590-VHVEG    5575-GNVDE      3668-QPYBK   \n",
       "gender                      Female          Male            Male   \n",
       "SeniorCitizen                    0             0               0   \n",
       "Partner                        Yes            No              No   \n",
       "Dependents                      No            No              No   \n",
       "tenure                           1            34               2   \n",
       "PhoneService                    No           Yes             Yes   \n",
       "MultipleLines     No phone service            No              No   \n",
       "InternetService                DSL           DSL             DSL   \n",
       "OnlineSecurity                  No           Yes             Yes   \n",
       "OnlineBackup                   Yes            No             Yes   \n",
       "DeviceProtection                No           Yes              No   \n",
       "TechSupport                     No            No              No   \n",
       "StreamingTV                     No            No              No   \n",
       "StreamingMovies                 No            No              No   \n",
       "Contract            Month-to-month      One year  Month-to-month   \n",
       "PaperlessBilling               Yes            No             Yes   \n",
       "PaymentMethod     Electronic check  Mailed check    Mailed check   \n",
       "MonthlyCharges               29.85         56.95           53.85   \n",
       "TotalCharges                 29.85        1889.5          108.15   \n",
       "Churn                           No            No             Yes   \n",
       "\n",
       "                                          3                 4  \n",
       "customerID                       7795-CFOCW        9237-HQITU  \n",
       "gender                                 Male            Female  \n",
       "SeniorCitizen                             0                 0  \n",
       "Partner                                  No                No  \n",
       "Dependents                               No                No  \n",
       "tenure                                   45                 2  \n",
       "PhoneService                             No               Yes  \n",
       "MultipleLines              No phone service                No  \n",
       "InternetService                         DSL       Fiber optic  \n",
       "OnlineSecurity                          Yes                No  \n",
       "OnlineBackup                             No                No  \n",
       "DeviceProtection                        Yes                No  \n",
       "TechSupport                             Yes                No  \n",
       "StreamingTV                              No                No  \n",
       "StreamingMovies                          No                No  \n",
       "Contract                           One year    Month-to-month  \n",
       "PaperlessBilling                         No               Yes  \n",
       "PaymentMethod     Bank transfer (automatic)  Electronic check  \n",
       "MonthlyCharges                         42.3              70.7  \n",
       "TotalCharges                        1840.75            151.65  \n",
       "Churn                                    No               Yes  "
      ]
     },
     "execution_count": 391,
     "metadata": {},
     "output_type": "execute_result"
    }
   ],
   "source": [
    "df = pd.read_csv('../dataset/WA_Fn-UseC_-Telco-Customer-Churn.csv')\n",
    "print(len(df))\n",
    "df.head().T"
   ]
  },
  {
   "cell_type": "code",
   "execution_count": 392,
   "metadata": {},
   "outputs": [
    {
     "data": {
      "text/plain": [
       "customerID           object\n",
       "gender               object\n",
       "SeniorCitizen         int64\n",
       "Partner              object\n",
       "Dependents           object\n",
       "tenure                int64\n",
       "PhoneService         object\n",
       "MultipleLines        object\n",
       "InternetService      object\n",
       "OnlineSecurity       object\n",
       "OnlineBackup         object\n",
       "DeviceProtection     object\n",
       "TechSupport          object\n",
       "StreamingTV          object\n",
       "StreamingMovies      object\n",
       "Contract             object\n",
       "PaperlessBilling     object\n",
       "PaymentMethod        object\n",
       "MonthlyCharges      float64\n",
       "TotalCharges         object\n",
       "Churn                object\n",
       "dtype: object"
      ]
     },
     "execution_count": 392,
     "metadata": {},
     "output_type": "execute_result"
    }
   ],
   "source": [
    "df.dtypes"
   ]
  },
  {
   "cell_type": "code",
   "execution_count": 393,
   "metadata": {},
   "outputs": [
    {
     "data": {
      "text/html": [
       "<div>\n",
       "<style scoped>\n",
       "    .dataframe tbody tr th:only-of-type {\n",
       "        vertical-align: middle;\n",
       "    }\n",
       "\n",
       "    .dataframe tbody tr th {\n",
       "        vertical-align: top;\n",
       "    }\n",
       "\n",
       "    .dataframe thead th {\n",
       "        text-align: right;\n",
       "    }\n",
       "</style>\n",
       "<table border=\"1\" class=\"dataframe\">\n",
       "  <thead>\n",
       "    <tr style=\"text-align: right;\">\n",
       "      <th></th>\n",
       "      <th>customerID</th>\n",
       "      <th>TotalCharges</th>\n",
       "    </tr>\n",
       "  </thead>\n",
       "  <tbody>\n",
       "    <tr>\n",
       "      <th>488</th>\n",
       "      <td>4472-LVYGI</td>\n",
       "      <td>0.0</td>\n",
       "    </tr>\n",
       "    <tr>\n",
       "      <th>753</th>\n",
       "      <td>3115-CZMZD</td>\n",
       "      <td>0.0</td>\n",
       "    </tr>\n",
       "    <tr>\n",
       "      <th>936</th>\n",
       "      <td>5709-LVOEQ</td>\n",
       "      <td>0.0</td>\n",
       "    </tr>\n",
       "    <tr>\n",
       "      <th>1082</th>\n",
       "      <td>4367-NUYAO</td>\n",
       "      <td>0.0</td>\n",
       "    </tr>\n",
       "    <tr>\n",
       "      <th>1340</th>\n",
       "      <td>1371-DWPAZ</td>\n",
       "      <td>0.0</td>\n",
       "    </tr>\n",
       "    <tr>\n",
       "      <th>3331</th>\n",
       "      <td>7644-OMVMY</td>\n",
       "      <td>0.0</td>\n",
       "    </tr>\n",
       "    <tr>\n",
       "      <th>3826</th>\n",
       "      <td>3213-VVOLG</td>\n",
       "      <td>0.0</td>\n",
       "    </tr>\n",
       "    <tr>\n",
       "      <th>4380</th>\n",
       "      <td>2520-SGTTA</td>\n",
       "      <td>0.0</td>\n",
       "    </tr>\n",
       "    <tr>\n",
       "      <th>5218</th>\n",
       "      <td>2923-ARZLG</td>\n",
       "      <td>0.0</td>\n",
       "    </tr>\n",
       "    <tr>\n",
       "      <th>6670</th>\n",
       "      <td>4075-WKNIU</td>\n",
       "      <td>0.0</td>\n",
       "    </tr>\n",
       "    <tr>\n",
       "      <th>6754</th>\n",
       "      <td>2775-SEFEE</td>\n",
       "      <td>0.0</td>\n",
       "    </tr>\n",
       "  </tbody>\n",
       "</table>\n",
       "</div>"
      ],
      "text/plain": [
       "      customerID  TotalCharges\n",
       "488   4472-LVYGI           0.0\n",
       "753   3115-CZMZD           0.0\n",
       "936   5709-LVOEQ           0.0\n",
       "1082  4367-NUYAO           0.0\n",
       "1340  1371-DWPAZ           0.0\n",
       "3331  7644-OMVMY           0.0\n",
       "3826  3213-VVOLG           0.0\n",
       "4380  2520-SGTTA           0.0\n",
       "5218  2923-ARZLG           0.0\n",
       "6670  4075-WKNIU           0.0\n",
       "6754  2775-SEFEE           0.0"
      ]
     },
     "execution_count": 393,
     "metadata": {},
     "output_type": "execute_result"
    }
   ],
   "source": [
    "#Pasos\n",
    "\n",
    "total_charges = pd.to_numeric(df.TotalCharges, errors='coerce')\n",
    "df.TotalCharges = pd.to_numeric(df.TotalCharges, errors='coerce')\n",
    "df.TotalCharges = df.TotalCharges.fillna(0)\n",
    "df[total_charges.isnull()][['customerID', 'TotalCharges']]"
   ]
  },
  {
   "cell_type": "code",
   "execution_count": 394,
   "metadata": {},
   "outputs": [
    {
     "data": {
      "text/html": [
       "<div>\n",
       "<style scoped>\n",
       "    .dataframe tbody tr th:only-of-type {\n",
       "        vertical-align: middle;\n",
       "    }\n",
       "\n",
       "    .dataframe tbody tr th {\n",
       "        vertical-align: top;\n",
       "    }\n",
       "\n",
       "    .dataframe thead th {\n",
       "        text-align: right;\n",
       "    }\n",
       "</style>\n",
       "<table border=\"1\" class=\"dataframe\">\n",
       "  <thead>\n",
       "    <tr style=\"text-align: right;\">\n",
       "      <th></th>\n",
       "      <th>0</th>\n",
       "      <th>1</th>\n",
       "      <th>2</th>\n",
       "      <th>3</th>\n",
       "      <th>4</th>\n",
       "    </tr>\n",
       "  </thead>\n",
       "  <tbody>\n",
       "    <tr>\n",
       "      <th>customerid</th>\n",
       "      <td>7590_vhveg</td>\n",
       "      <td>5575_gnvde</td>\n",
       "      <td>3668_qpybk</td>\n",
       "      <td>7795_cfocw</td>\n",
       "      <td>9237_hqitu</td>\n",
       "    </tr>\n",
       "    <tr>\n",
       "      <th>gender</th>\n",
       "      <td>female</td>\n",
       "      <td>male</td>\n",
       "      <td>male</td>\n",
       "      <td>male</td>\n",
       "      <td>female</td>\n",
       "    </tr>\n",
       "    <tr>\n",
       "      <th>seniorcitizen</th>\n",
       "      <td>0</td>\n",
       "      <td>0</td>\n",
       "      <td>0</td>\n",
       "      <td>0</td>\n",
       "      <td>0</td>\n",
       "    </tr>\n",
       "    <tr>\n",
       "      <th>partner</th>\n",
       "      <td>yes</td>\n",
       "      <td>no</td>\n",
       "      <td>no</td>\n",
       "      <td>no</td>\n",
       "      <td>no</td>\n",
       "    </tr>\n",
       "    <tr>\n",
       "      <th>dependents</th>\n",
       "      <td>no</td>\n",
       "      <td>no</td>\n",
       "      <td>no</td>\n",
       "      <td>no</td>\n",
       "      <td>no</td>\n",
       "    </tr>\n",
       "    <tr>\n",
       "      <th>tenure</th>\n",
       "      <td>1</td>\n",
       "      <td>34</td>\n",
       "      <td>2</td>\n",
       "      <td>45</td>\n",
       "      <td>2</td>\n",
       "    </tr>\n",
       "    <tr>\n",
       "      <th>phoneservice</th>\n",
       "      <td>no</td>\n",
       "      <td>yes</td>\n",
       "      <td>yes</td>\n",
       "      <td>no</td>\n",
       "      <td>yes</td>\n",
       "    </tr>\n",
       "    <tr>\n",
       "      <th>multiplelines</th>\n",
       "      <td>no_phone_service</td>\n",
       "      <td>no</td>\n",
       "      <td>no</td>\n",
       "      <td>no_phone_service</td>\n",
       "      <td>no</td>\n",
       "    </tr>\n",
       "    <tr>\n",
       "      <th>internetservice</th>\n",
       "      <td>dsl</td>\n",
       "      <td>dsl</td>\n",
       "      <td>dsl</td>\n",
       "      <td>dsl</td>\n",
       "      <td>fiber_optic</td>\n",
       "    </tr>\n",
       "    <tr>\n",
       "      <th>onlinesecurity</th>\n",
       "      <td>no</td>\n",
       "      <td>yes</td>\n",
       "      <td>yes</td>\n",
       "      <td>yes</td>\n",
       "      <td>no</td>\n",
       "    </tr>\n",
       "    <tr>\n",
       "      <th>onlinebackup</th>\n",
       "      <td>yes</td>\n",
       "      <td>no</td>\n",
       "      <td>yes</td>\n",
       "      <td>no</td>\n",
       "      <td>no</td>\n",
       "    </tr>\n",
       "    <tr>\n",
       "      <th>deviceprotection</th>\n",
       "      <td>no</td>\n",
       "      <td>yes</td>\n",
       "      <td>no</td>\n",
       "      <td>yes</td>\n",
       "      <td>no</td>\n",
       "    </tr>\n",
       "    <tr>\n",
       "      <th>techsupport</th>\n",
       "      <td>no</td>\n",
       "      <td>no</td>\n",
       "      <td>no</td>\n",
       "      <td>yes</td>\n",
       "      <td>no</td>\n",
       "    </tr>\n",
       "    <tr>\n",
       "      <th>streamingtv</th>\n",
       "      <td>no</td>\n",
       "      <td>no</td>\n",
       "      <td>no</td>\n",
       "      <td>no</td>\n",
       "      <td>no</td>\n",
       "    </tr>\n",
       "    <tr>\n",
       "      <th>streamingmovies</th>\n",
       "      <td>no</td>\n",
       "      <td>no</td>\n",
       "      <td>no</td>\n",
       "      <td>no</td>\n",
       "      <td>no</td>\n",
       "    </tr>\n",
       "    <tr>\n",
       "      <th>contract</th>\n",
       "      <td>month_to_month</td>\n",
       "      <td>one_year</td>\n",
       "      <td>month_to_month</td>\n",
       "      <td>one_year</td>\n",
       "      <td>month_to_month</td>\n",
       "    </tr>\n",
       "    <tr>\n",
       "      <th>paperlessbilling</th>\n",
       "      <td>yes</td>\n",
       "      <td>no</td>\n",
       "      <td>yes</td>\n",
       "      <td>no</td>\n",
       "      <td>yes</td>\n",
       "    </tr>\n",
       "    <tr>\n",
       "      <th>paymentmethod</th>\n",
       "      <td>electronic_check</td>\n",
       "      <td>mailed_check</td>\n",
       "      <td>mailed_check</td>\n",
       "      <td>bank_transfer_(automatic)</td>\n",
       "      <td>electronic_check</td>\n",
       "    </tr>\n",
       "    <tr>\n",
       "      <th>monthlycharges</th>\n",
       "      <td>29.85</td>\n",
       "      <td>56.95</td>\n",
       "      <td>53.85</td>\n",
       "      <td>42.3</td>\n",
       "      <td>70.7</td>\n",
       "    </tr>\n",
       "    <tr>\n",
       "      <th>totalcharges</th>\n",
       "      <td>29.85</td>\n",
       "      <td>1889.5</td>\n",
       "      <td>108.15</td>\n",
       "      <td>1840.75</td>\n",
       "      <td>151.65</td>\n",
       "    </tr>\n",
       "    <tr>\n",
       "      <th>churn</th>\n",
       "      <td>no</td>\n",
       "      <td>no</td>\n",
       "      <td>yes</td>\n",
       "      <td>no</td>\n",
       "      <td>yes</td>\n",
       "    </tr>\n",
       "  </tbody>\n",
       "</table>\n",
       "</div>"
      ],
      "text/plain": [
       "                                 0             1               2  \\\n",
       "customerid              7590_vhveg    5575_gnvde      3668_qpybk   \n",
       "gender                      female          male            male   \n",
       "seniorcitizen                    0             0               0   \n",
       "partner                        yes            no              no   \n",
       "dependents                      no            no              no   \n",
       "tenure                           1            34               2   \n",
       "phoneservice                    no           yes             yes   \n",
       "multiplelines     no_phone_service            no              no   \n",
       "internetservice                dsl           dsl             dsl   \n",
       "onlinesecurity                  no           yes             yes   \n",
       "onlinebackup                   yes            no             yes   \n",
       "deviceprotection                no           yes              no   \n",
       "techsupport                     no            no              no   \n",
       "streamingtv                     no            no              no   \n",
       "streamingmovies                 no            no              no   \n",
       "contract            month_to_month      one_year  month_to_month   \n",
       "paperlessbilling               yes            no             yes   \n",
       "paymentmethod     electronic_check  mailed_check    mailed_check   \n",
       "monthlycharges               29.85         56.95           53.85   \n",
       "totalcharges                 29.85        1889.5          108.15   \n",
       "churn                           no            no             yes   \n",
       "\n",
       "                                          3                 4  \n",
       "customerid                       7795_cfocw        9237_hqitu  \n",
       "gender                                 male            female  \n",
       "seniorcitizen                             0                 0  \n",
       "partner                                  no                no  \n",
       "dependents                               no                no  \n",
       "tenure                                   45                 2  \n",
       "phoneservice                             no               yes  \n",
       "multiplelines              no_phone_service                no  \n",
       "internetservice                         dsl       fiber_optic  \n",
       "onlinesecurity                          yes                no  \n",
       "onlinebackup                             no                no  \n",
       "deviceprotection                        yes                no  \n",
       "techsupport                             yes                no  \n",
       "streamingtv                              no                no  \n",
       "streamingmovies                          no                no  \n",
       "contract                           one_year    month_to_month  \n",
       "paperlessbilling                         no               yes  \n",
       "paymentmethod     bank_transfer_(automatic)  electronic_check  \n",
       "monthlycharges                         42.3              70.7  \n",
       "totalcharges                        1840.75            151.65  \n",
       "churn                                    no               yes  "
      ]
     },
     "execution_count": 394,
     "metadata": {},
     "output_type": "execute_result"
    }
   ],
   "source": [
    "#Limpieza\n",
    "replacer = lambda str: str.lower().str.replace(' ', '_').str.replace('-', '_')\n",
    "df.columns = replacer(df.columns.str)\n",
    "for col in list(df.dtypes[df.dtypes == 'object'].index):\n",
    "    df[col] = replacer(df[col].str)\n",
    "df.head().T\n"
   ]
  },
  {
   "cell_type": "code",
   "execution_count": 395,
   "metadata": {},
   "outputs": [
    {
     "data": {
      "text/plain": [
       "0    0\n",
       "1    0\n",
       "2    1\n",
       "3    0\n",
       "4    1\n",
       "Name: churn, dtype: int64"
      ]
     },
     "execution_count": 395,
     "metadata": {},
     "output_type": "execute_result"
    }
   ],
   "source": [
    "df.churn = (df.churn == 'yes').astype(int)\n",
    "df.churn.head()"
   ]
  },
  {
   "cell_type": "code",
   "execution_count": 396,
   "metadata": {},
   "outputs": [
    {
     "data": {
      "text/plain": [
       "gender              2\n",
       "seniorcitizen       2\n",
       "partner             2\n",
       "dependents          2\n",
       "phoneservice        2\n",
       "multiplelines       3\n",
       "internetservice     3\n",
       "onlinesecurity      3\n",
       "onlinebackup        3\n",
       "deviceprotection    3\n",
       "techsupport         3\n",
       "streamingtv         3\n",
       "streamingmovies     3\n",
       "contract            3\n",
       "paperlessbilling    2\n",
       "paymentmethod       4\n",
       "dtype: int64"
      ]
     },
     "execution_count": 396,
     "metadata": {},
     "output_type": "execute_result"
    }
   ],
   "source": [
    "categorical = ['gender', 'seniorcitizen', 'partner', 'dependents',\n",
    "'phoneservice', 'multiplelines', 'internetservice', 'onlinesecurity', 'onlinebackup', 'deviceprotection', 'techsupport', 'streamingtv', 'streamingmovies', 'contract', 'paperlessbilling', 'paymentmethod']\n",
    "numerical = ['tenure', 'monthlycharges', 'totalcharges']\n",
    "df[categorical].nunique()"
   ]
  },
  {
   "cell_type": "code",
   "execution_count": 397,
   "metadata": {},
   "outputs": [],
   "source": [
    "\n",
    "\n",
    "# df['multiplelines']=df['multiplelines'].str.replace('no_phone_service','no')\n",
    "# df['internetservice']=df['internetservice'].str.replace('dsl','yes').str.replace('fiber_optic','yes')\n",
    "# df['onlinesecurity']=df['onlinesecurity'].str.replace('no_internet_service','no')\n",
    "# df['onlinebackup']=df['onlinebackup'].str.replace('no_internet_service','no')\n",
    "# df['deviceprotection']=df['deviceprotection'].str.replace('no_internet_service','no')\n",
    "# df['techsupport']=df['techsupport'].str.replace('no_internet_service','no')\n",
    "# df['streamingtv']=df['streamingtv'].str.replace('no_internet_service','no')\n",
    "# df['streamingmovies']=df['streamingmovies'].str.replace('no_internet_service','no')\n"
   ]
  },
  {
   "cell_type": "code",
   "execution_count": 398,
   "metadata": {},
   "outputs": [
    {
     "data": {
      "text/plain": [
       "gender              2\n",
       "seniorcitizen       2\n",
       "partner             2\n",
       "dependents          2\n",
       "phoneservice        2\n",
       "multiplelines       3\n",
       "internetservice     3\n",
       "onlinesecurity      3\n",
       "onlinebackup        3\n",
       "deviceprotection    3\n",
       "techsupport         3\n",
       "streamingtv         3\n",
       "streamingmovies     3\n",
       "contract            3\n",
       "paperlessbilling    2\n",
       "paymentmethod       4\n",
       "dtype: int64"
      ]
     },
     "execution_count": 398,
     "metadata": {},
     "output_type": "execute_result"
    }
   ],
   "source": [
    "# df['contract'].unique()\n",
    "df[categorical].nunique()"
   ]
  },
  {
   "cell_type": "code",
   "execution_count": 399,
   "metadata": {},
   "outputs": [],
   "source": [
    "del df['gender']\n",
    "del df['phoneservice']\n",
    "del df['multiplelines']\n",
    "del df['streamingtv']\n",
    "del df['deviceprotection']\n",
    "# del df['streamingmovies']\n",
    "# del df['onlinebackup']\n",
    "# del df['seniorcitizen']\n",
    "# del df['partner']\n",
    "# del df['dependents']\n",
    "# del df['techsupport']\n",
    "# del df['paymentmethod']\n",
    "\n",
    "\n",
    "# del df['tenure']\n",
    "# del df['totalcharges']"
   ]
  },
  {
   "cell_type": "code",
   "execution_count": 400,
   "metadata": {},
   "outputs": [
    {
     "data": {
      "text/html": [
       "<div>\n",
       "<style scoped>\n",
       "    .dataframe tbody tr th:only-of-type {\n",
       "        vertical-align: middle;\n",
       "    }\n",
       "\n",
       "    .dataframe tbody tr th {\n",
       "        vertical-align: top;\n",
       "    }\n",
       "\n",
       "    .dataframe thead th {\n",
       "        text-align: right;\n",
       "    }\n",
       "</style>\n",
       "<table border=\"1\" class=\"dataframe\">\n",
       "  <thead>\n",
       "    <tr style=\"text-align: right;\">\n",
       "      <th></th>\n",
       "      <th>0</th>\n",
       "      <th>1</th>\n",
       "      <th>2</th>\n",
       "      <th>3</th>\n",
       "      <th>4</th>\n",
       "    </tr>\n",
       "  </thead>\n",
       "  <tbody>\n",
       "    <tr>\n",
       "      <th>customerid</th>\n",
       "      <td>7590_vhveg</td>\n",
       "      <td>5575_gnvde</td>\n",
       "      <td>3668_qpybk</td>\n",
       "      <td>7795_cfocw</td>\n",
       "      <td>9237_hqitu</td>\n",
       "    </tr>\n",
       "    <tr>\n",
       "      <th>seniorcitizen</th>\n",
       "      <td>0</td>\n",
       "      <td>0</td>\n",
       "      <td>0</td>\n",
       "      <td>0</td>\n",
       "      <td>0</td>\n",
       "    </tr>\n",
       "    <tr>\n",
       "      <th>partner</th>\n",
       "      <td>yes</td>\n",
       "      <td>no</td>\n",
       "      <td>no</td>\n",
       "      <td>no</td>\n",
       "      <td>no</td>\n",
       "    </tr>\n",
       "    <tr>\n",
       "      <th>dependents</th>\n",
       "      <td>no</td>\n",
       "      <td>no</td>\n",
       "      <td>no</td>\n",
       "      <td>no</td>\n",
       "      <td>no</td>\n",
       "    </tr>\n",
       "    <tr>\n",
       "      <th>tenure</th>\n",
       "      <td>1</td>\n",
       "      <td>34</td>\n",
       "      <td>2</td>\n",
       "      <td>45</td>\n",
       "      <td>2</td>\n",
       "    </tr>\n",
       "    <tr>\n",
       "      <th>internetservice</th>\n",
       "      <td>dsl</td>\n",
       "      <td>dsl</td>\n",
       "      <td>dsl</td>\n",
       "      <td>dsl</td>\n",
       "      <td>fiber_optic</td>\n",
       "    </tr>\n",
       "    <tr>\n",
       "      <th>onlinesecurity</th>\n",
       "      <td>no</td>\n",
       "      <td>yes</td>\n",
       "      <td>yes</td>\n",
       "      <td>yes</td>\n",
       "      <td>no</td>\n",
       "    </tr>\n",
       "    <tr>\n",
       "      <th>onlinebackup</th>\n",
       "      <td>yes</td>\n",
       "      <td>no</td>\n",
       "      <td>yes</td>\n",
       "      <td>no</td>\n",
       "      <td>no</td>\n",
       "    </tr>\n",
       "    <tr>\n",
       "      <th>techsupport</th>\n",
       "      <td>no</td>\n",
       "      <td>no</td>\n",
       "      <td>no</td>\n",
       "      <td>yes</td>\n",
       "      <td>no</td>\n",
       "    </tr>\n",
       "    <tr>\n",
       "      <th>streamingmovies</th>\n",
       "      <td>no</td>\n",
       "      <td>no</td>\n",
       "      <td>no</td>\n",
       "      <td>no</td>\n",
       "      <td>no</td>\n",
       "    </tr>\n",
       "    <tr>\n",
       "      <th>contract</th>\n",
       "      <td>month_to_month</td>\n",
       "      <td>one_year</td>\n",
       "      <td>month_to_month</td>\n",
       "      <td>one_year</td>\n",
       "      <td>month_to_month</td>\n",
       "    </tr>\n",
       "    <tr>\n",
       "      <th>paperlessbilling</th>\n",
       "      <td>yes</td>\n",
       "      <td>no</td>\n",
       "      <td>yes</td>\n",
       "      <td>no</td>\n",
       "      <td>yes</td>\n",
       "    </tr>\n",
       "    <tr>\n",
       "      <th>paymentmethod</th>\n",
       "      <td>electronic_check</td>\n",
       "      <td>mailed_check</td>\n",
       "      <td>mailed_check</td>\n",
       "      <td>bank_transfer_(automatic)</td>\n",
       "      <td>electronic_check</td>\n",
       "    </tr>\n",
       "    <tr>\n",
       "      <th>monthlycharges</th>\n",
       "      <td>29.85</td>\n",
       "      <td>56.95</td>\n",
       "      <td>53.85</td>\n",
       "      <td>42.3</td>\n",
       "      <td>70.7</td>\n",
       "    </tr>\n",
       "    <tr>\n",
       "      <th>totalcharges</th>\n",
       "      <td>29.85</td>\n",
       "      <td>1889.5</td>\n",
       "      <td>108.15</td>\n",
       "      <td>1840.75</td>\n",
       "      <td>151.65</td>\n",
       "    </tr>\n",
       "    <tr>\n",
       "      <th>churn</th>\n",
       "      <td>0</td>\n",
       "      <td>0</td>\n",
       "      <td>1</td>\n",
       "      <td>0</td>\n",
       "      <td>1</td>\n",
       "    </tr>\n",
       "  </tbody>\n",
       "</table>\n",
       "</div>"
      ],
      "text/plain": [
       "                                 0             1               2  \\\n",
       "customerid              7590_vhveg    5575_gnvde      3668_qpybk   \n",
       "seniorcitizen                    0             0               0   \n",
       "partner                        yes            no              no   \n",
       "dependents                      no            no              no   \n",
       "tenure                           1            34               2   \n",
       "internetservice                dsl           dsl             dsl   \n",
       "onlinesecurity                  no           yes             yes   \n",
       "onlinebackup                   yes            no             yes   \n",
       "techsupport                     no            no              no   \n",
       "streamingmovies                 no            no              no   \n",
       "contract            month_to_month      one_year  month_to_month   \n",
       "paperlessbilling               yes            no             yes   \n",
       "paymentmethod     electronic_check  mailed_check    mailed_check   \n",
       "monthlycharges               29.85         56.95           53.85   \n",
       "totalcharges                 29.85        1889.5          108.15   \n",
       "churn                            0             0               1   \n",
       "\n",
       "                                          3                 4  \n",
       "customerid                       7795_cfocw        9237_hqitu  \n",
       "seniorcitizen                             0                 0  \n",
       "partner                                  no                no  \n",
       "dependents                               no                no  \n",
       "tenure                                   45                 2  \n",
       "internetservice                         dsl       fiber_optic  \n",
       "onlinesecurity                          yes                no  \n",
       "onlinebackup                             no                no  \n",
       "techsupport                             yes                no  \n",
       "streamingmovies                          no                no  \n",
       "contract                           one_year    month_to_month  \n",
       "paperlessbilling                         no               yes  \n",
       "paymentmethod     bank_transfer_(automatic)  electronic_check  \n",
       "monthlycharges                         42.3              70.7  \n",
       "totalcharges                        1840.75            151.65  \n",
       "churn                                     0                 1  "
      ]
     },
     "execution_count": 400,
     "metadata": {},
     "output_type": "execute_result"
    }
   ],
   "source": [
    "df.head().T"
   ]
  },
  {
   "attachments": {},
   "cell_type": "markdown",
   "metadata": {},
   "source": [
    "Comienza el procesado de la información. Para ello definimos objetivos y conjuntos de datos de entrenamiento y de validación."
   ]
  },
  {
   "cell_type": "code",
   "execution_count": 401,
   "metadata": {},
   "outputs": [],
   "source": [
    "from sklearn.model_selection import train_test_split\n",
    "from random import randrange\n",
    "# randrange(10000)\n",
    "def dividirDatos(df, num):\n",
    "    df_train_full, df_test = train_test_split(df, test_size=0.2, random_state=num)\n",
    "\n",
    "    df_train, df_val = train_test_split(df_train_full, test_size=0.33, random_state=num)\n",
    "\n",
    "    y_train = df_train.churn.values\n",
    "    y_val = df_val.churn.values\n",
    "    y_test=df_test.churn.values\n",
    "\n",
    "    del df_test['churn']\n",
    "    del df_train['churn']\n",
    "    del df_val['churn']\n",
    "\n",
    "    return(df_train_full, df_test,df_train, df_val, y_train, y_val, y_test)"
   ]
  },
  {
   "attachments": {},
   "cell_type": "markdown",
   "metadata": {},
   "source": [
    "Análisis de importancia de propiedades"
   ]
  },
  {
   "cell_type": "code",
   "execution_count": 402,
   "metadata": {},
   "outputs": [
    {
     "data": {
      "text/plain": [
       "0.27"
      ]
     },
     "execution_count": 402,
     "metadata": {},
     "output_type": "execute_result"
    }
   ],
   "source": [
    "df_train_full, df_test,df_train, df_val, y_train, y_val, y_test=dividirDatos(df, randrange(10000))\n",
    "global_mean = df_train_full.churn.mean()\n",
    "round(global_mean, 3)"
   ]
  },
  {
   "cell_type": "code",
   "execution_count": 403,
   "metadata": {},
   "outputs": [],
   "source": [
    "# female_mean = df_train_full[df_train_full.gender == 'female'].churn.mean()\n",
    "# print(round(female_mean, 3))\n",
    "# male_mean = df_train_full[df_train_full.gender == 'male'].churn.mean()\n",
    "# print(round(male_mean, 3))"
   ]
  },
  {
   "cell_type": "code",
   "execution_count": 404,
   "metadata": {},
   "outputs": [],
   "source": [
    "# partner_yes = df_train_full[df_train_full.partner == 'yes'].churn.mean()\n",
    "# print(round(partner_yes, 3))\n",
    "# partner_no = df_train_full[df_train_full.partner == 'no'].churn.mean()\n",
    "# print(round(partner_no, 3))"
   ]
  },
  {
   "cell_type": "code",
   "execution_count": 405,
   "metadata": {},
   "outputs": [],
   "source": [
    "# from sklearn.metrics import mutual_info_score\n",
    "\n",
    "# calculate_mi = lambda col: mutual_info_score(col, df_train_full.churn)\n",
    "\n",
    "# df_mi = df_train_full[categorical].apply(calculate_mi)\n",
    "# df_mi = df_mi.sort_values(ascending=False).to_frame(name='MI')\n",
    "# df_mi"
   ]
  },
  {
   "cell_type": "code",
   "execution_count": 406,
   "metadata": {},
   "outputs": [],
   "source": [
    "# print(df_train_full[numerical].corrwith(df_train_full.churn))\n",
    "\n",
    "# print(round(df_train_full[df_train_full.tenure <= 2].churn.mean(), 3))\n",
    "# print(round(df_train_full[(df_train_full.tenure > 3) & \n",
    "#                           (df_train_full.tenure <= 12)].churn.mean(), 3))\n",
    "# print(round(df_train_full[df_train_full.tenure > 12].churn.mean(), 3))\n",
    "\n",
    "# print(round(df_train_full[df_train_full.monthlycharges < 20].churn.mean(), 3))\n",
    "# print(round(df_train_full[(df_train_full.monthlycharges > 21) & \n",
    "#                           (df_train_full.monthlycharges <= 50)].churn.mean(), 3))\n",
    "# print(round(df_train_full[df_train_full.monthlycharges > 50].churn.mean(), 3))"
   ]
  },
  {
   "attachments": {},
   "cell_type": "markdown",
   "metadata": {},
   "source": [
    "Ingeniería de propiedades\n",
    "Debemos adaptar las propiedades a nusetro sistema de entrenamiento. \n",
    "Para ello debemos hacer ciertas modificaciones. \n",
    "El objetivo será obtener la representación de los datos en forma de diccionario."
   ]
  },
  {
   "cell_type": "code",
   "execution_count": 407,
   "metadata": {},
   "outputs": [
    {
     "data": {
      "text/plain": [
       "{'contract': 'month_to_month',\n",
       " 'customerid': '4395_pzmsn',\n",
       " 'dependents': 'no',\n",
       " 'internetservice': 'fiber_optic',\n",
       " 'monthlycharges': 85.55,\n",
       " 'onlinebackup': 'yes',\n",
       " 'onlinesecurity': 'no',\n",
       " 'paperlessbilling': 'yes',\n",
       " 'partner': 'no',\n",
       " 'paymentmethod': 'electronic_check',\n",
       " 'seniorcitizen': 1,\n",
       " 'streamingmovies': 'yes',\n",
       " 'techsupport': 'no',\n",
       " 'tenure': 5,\n",
       " 'totalcharges': 408.5}"
      ]
     },
     "execution_count": 407,
     "metadata": {},
     "output_type": "execute_result"
    }
   ],
   "source": [
    "train_dict = df_train.to_dict(orient='records')\n",
    "dict(sorted(train_dict[0].items()))"
   ]
  },
  {
   "cell_type": "code",
   "execution_count": 408,
   "metadata": {},
   "outputs": [
    {
     "data": {
      "text/html": [
       "<style>#sk-container-id-25 {color: black;background-color: white;}#sk-container-id-25 pre{padding: 0;}#sk-container-id-25 div.sk-toggleable {background-color: white;}#sk-container-id-25 label.sk-toggleable__label {cursor: pointer;display: block;width: 100%;margin-bottom: 0;padding: 0.3em;box-sizing: border-box;text-align: center;}#sk-container-id-25 label.sk-toggleable__label-arrow:before {content: \"▸\";float: left;margin-right: 0.25em;color: #696969;}#sk-container-id-25 label.sk-toggleable__label-arrow:hover:before {color: black;}#sk-container-id-25 div.sk-estimator:hover label.sk-toggleable__label-arrow:before {color: black;}#sk-container-id-25 div.sk-toggleable__content {max-height: 0;max-width: 0;overflow: hidden;text-align: left;background-color: #f0f8ff;}#sk-container-id-25 div.sk-toggleable__content pre {margin: 0.2em;color: black;border-radius: 0.25em;background-color: #f0f8ff;}#sk-container-id-25 input.sk-toggleable__control:checked~div.sk-toggleable__content {max-height: 200px;max-width: 100%;overflow: auto;}#sk-container-id-25 input.sk-toggleable__control:checked~label.sk-toggleable__label-arrow:before {content: \"▾\";}#sk-container-id-25 div.sk-estimator input.sk-toggleable__control:checked~label.sk-toggleable__label {background-color: #d4ebff;}#sk-container-id-25 div.sk-label input.sk-toggleable__control:checked~label.sk-toggleable__label {background-color: #d4ebff;}#sk-container-id-25 input.sk-hidden--visually {border: 0;clip: rect(1px 1px 1px 1px);clip: rect(1px, 1px, 1px, 1px);height: 1px;margin: -1px;overflow: hidden;padding: 0;position: absolute;width: 1px;}#sk-container-id-25 div.sk-estimator {font-family: monospace;background-color: #f0f8ff;border: 1px dotted black;border-radius: 0.25em;box-sizing: border-box;margin-bottom: 0.5em;}#sk-container-id-25 div.sk-estimator:hover {background-color: #d4ebff;}#sk-container-id-25 div.sk-parallel-item::after {content: \"\";width: 100%;border-bottom: 1px solid gray;flex-grow: 1;}#sk-container-id-25 div.sk-label:hover label.sk-toggleable__label {background-color: #d4ebff;}#sk-container-id-25 div.sk-serial::before {content: \"\";position: absolute;border-left: 1px solid gray;box-sizing: border-box;top: 0;bottom: 0;left: 50%;z-index: 0;}#sk-container-id-25 div.sk-serial {display: flex;flex-direction: column;align-items: center;background-color: white;padding-right: 0.2em;padding-left: 0.2em;position: relative;}#sk-container-id-25 div.sk-item {position: relative;z-index: 1;}#sk-container-id-25 div.sk-parallel {display: flex;align-items: stretch;justify-content: center;background-color: white;position: relative;}#sk-container-id-25 div.sk-item::before, #sk-container-id-25 div.sk-parallel-item::before {content: \"\";position: absolute;border-left: 1px solid gray;box-sizing: border-box;top: 0;bottom: 0;left: 50%;z-index: -1;}#sk-container-id-25 div.sk-parallel-item {display: flex;flex-direction: column;z-index: 1;position: relative;background-color: white;}#sk-container-id-25 div.sk-parallel-item:first-child::after {align-self: flex-end;width: 50%;}#sk-container-id-25 div.sk-parallel-item:last-child::after {align-self: flex-start;width: 50%;}#sk-container-id-25 div.sk-parallel-item:only-child::after {width: 0;}#sk-container-id-25 div.sk-dashed-wrapped {border: 1px dashed gray;margin: 0 0.4em 0.5em 0.4em;box-sizing: border-box;padding-bottom: 0.4em;background-color: white;}#sk-container-id-25 div.sk-label label {font-family: monospace;font-weight: bold;display: inline-block;line-height: 1.2em;}#sk-container-id-25 div.sk-label-container {text-align: center;}#sk-container-id-25 div.sk-container {/* jupyter's `normalize.less` sets `[hidden] { display: none; }` but bootstrap.min.css set `[hidden] { display: none !important; }` so we also need the `!important` here to be able to override the default hidden behavior on the sphinx rendered scikit-learn.org. See: https://github.com/scikit-learn/scikit-learn/issues/21755 */display: inline-block !important;position: relative;}#sk-container-id-25 div.sk-text-repr-fallback {display: none;}</style><div id=\"sk-container-id-25\" class=\"sk-top-container\"><div class=\"sk-text-repr-fallback\"><pre>DictVectorizer(sparse=False)</pre><b>In a Jupyter environment, please rerun this cell to show the HTML representation or trust the notebook. <br />On GitHub, the HTML representation is unable to render, please try loading this page with nbviewer.org.</b></div><div class=\"sk-container\" hidden><div class=\"sk-item\"><div class=\"sk-estimator sk-toggleable\"><input class=\"sk-toggleable__control sk-hidden--visually\" id=\"sk-estimator-id-25\" type=\"checkbox\" checked><label for=\"sk-estimator-id-25\" class=\"sk-toggleable__label sk-toggleable__label-arrow\">DictVectorizer</label><div class=\"sk-toggleable__content\"><pre>DictVectorizer(sparse=False)</pre></div></div></div></div></div>"
      ],
      "text/plain": [
       "DictVectorizer(sparse=False)"
      ]
     },
     "execution_count": 408,
     "metadata": {},
     "output_type": "execute_result"
    }
   ],
   "source": [
    "from sklearn.feature_extraction import DictVectorizer\n",
    "\n",
    "dv = DictVectorizer(sparse=False)\n",
    "dv.fit(train_dict)"
   ]
  },
  {
   "cell_type": "code",
   "execution_count": 409,
   "metadata": {},
   "outputs": [
    {
     "data": {
      "text/plain": [
       "array([  1. ,   0. ,   0. , ...,   0. ,   5. , 408.5])"
      ]
     },
     "execution_count": 409,
     "metadata": {},
     "output_type": "execute_result"
    }
   ],
   "source": [
    "X_train = dv.transform(train_dict)\n",
    "X_train[0]"
   ]
  },
  {
   "cell_type": "code",
   "execution_count": 410,
   "metadata": {},
   "outputs": [
    {
     "data": {
      "text/plain": [
       "array(['contract=month_to_month', 'contract=one_year',\n",
       "       'contract=two_year', ..., 'techsupport=yes', 'tenure',\n",
       "       'totalcharges'], dtype=object)"
      ]
     },
     "execution_count": 410,
     "metadata": {},
     "output_type": "execute_result"
    }
   ],
   "source": [
    "dv.get_feature_names_out()"
   ]
  },
  {
   "attachments": {},
   "cell_type": "markdown",
   "metadata": {},
   "source": [
    "Entrenamiento del modelo"
   ]
  },
  {
   "cell_type": "code",
   "execution_count": 411,
   "metadata": {},
   "outputs": [
    {
     "data": {
      "text/html": [
       "<style>#sk-container-id-26 {color: black;background-color: white;}#sk-container-id-26 pre{padding: 0;}#sk-container-id-26 div.sk-toggleable {background-color: white;}#sk-container-id-26 label.sk-toggleable__label {cursor: pointer;display: block;width: 100%;margin-bottom: 0;padding: 0.3em;box-sizing: border-box;text-align: center;}#sk-container-id-26 label.sk-toggleable__label-arrow:before {content: \"▸\";float: left;margin-right: 0.25em;color: #696969;}#sk-container-id-26 label.sk-toggleable__label-arrow:hover:before {color: black;}#sk-container-id-26 div.sk-estimator:hover label.sk-toggleable__label-arrow:before {color: black;}#sk-container-id-26 div.sk-toggleable__content {max-height: 0;max-width: 0;overflow: hidden;text-align: left;background-color: #f0f8ff;}#sk-container-id-26 div.sk-toggleable__content pre {margin: 0.2em;color: black;border-radius: 0.25em;background-color: #f0f8ff;}#sk-container-id-26 input.sk-toggleable__control:checked~div.sk-toggleable__content {max-height: 200px;max-width: 100%;overflow: auto;}#sk-container-id-26 input.sk-toggleable__control:checked~label.sk-toggleable__label-arrow:before {content: \"▾\";}#sk-container-id-26 div.sk-estimator input.sk-toggleable__control:checked~label.sk-toggleable__label {background-color: #d4ebff;}#sk-container-id-26 div.sk-label input.sk-toggleable__control:checked~label.sk-toggleable__label {background-color: #d4ebff;}#sk-container-id-26 input.sk-hidden--visually {border: 0;clip: rect(1px 1px 1px 1px);clip: rect(1px, 1px, 1px, 1px);height: 1px;margin: -1px;overflow: hidden;padding: 0;position: absolute;width: 1px;}#sk-container-id-26 div.sk-estimator {font-family: monospace;background-color: #f0f8ff;border: 1px dotted black;border-radius: 0.25em;box-sizing: border-box;margin-bottom: 0.5em;}#sk-container-id-26 div.sk-estimator:hover {background-color: #d4ebff;}#sk-container-id-26 div.sk-parallel-item::after {content: \"\";width: 100%;border-bottom: 1px solid gray;flex-grow: 1;}#sk-container-id-26 div.sk-label:hover label.sk-toggleable__label {background-color: #d4ebff;}#sk-container-id-26 div.sk-serial::before {content: \"\";position: absolute;border-left: 1px solid gray;box-sizing: border-box;top: 0;bottom: 0;left: 50%;z-index: 0;}#sk-container-id-26 div.sk-serial {display: flex;flex-direction: column;align-items: center;background-color: white;padding-right: 0.2em;padding-left: 0.2em;position: relative;}#sk-container-id-26 div.sk-item {position: relative;z-index: 1;}#sk-container-id-26 div.sk-parallel {display: flex;align-items: stretch;justify-content: center;background-color: white;position: relative;}#sk-container-id-26 div.sk-item::before, #sk-container-id-26 div.sk-parallel-item::before {content: \"\";position: absolute;border-left: 1px solid gray;box-sizing: border-box;top: 0;bottom: 0;left: 50%;z-index: -1;}#sk-container-id-26 div.sk-parallel-item {display: flex;flex-direction: column;z-index: 1;position: relative;background-color: white;}#sk-container-id-26 div.sk-parallel-item:first-child::after {align-self: flex-end;width: 50%;}#sk-container-id-26 div.sk-parallel-item:last-child::after {align-self: flex-start;width: 50%;}#sk-container-id-26 div.sk-parallel-item:only-child::after {width: 0;}#sk-container-id-26 div.sk-dashed-wrapped {border: 1px dashed gray;margin: 0 0.4em 0.5em 0.4em;box-sizing: border-box;padding-bottom: 0.4em;background-color: white;}#sk-container-id-26 div.sk-label label {font-family: monospace;font-weight: bold;display: inline-block;line-height: 1.2em;}#sk-container-id-26 div.sk-label-container {text-align: center;}#sk-container-id-26 div.sk-container {/* jupyter's `normalize.less` sets `[hidden] { display: none; }` but bootstrap.min.css set `[hidden] { display: none !important; }` so we also need the `!important` here to be able to override the default hidden behavior on the sphinx rendered scikit-learn.org. See: https://github.com/scikit-learn/scikit-learn/issues/21755 */display: inline-block !important;position: relative;}#sk-container-id-26 div.sk-text-repr-fallback {display: none;}</style><div id=\"sk-container-id-26\" class=\"sk-top-container\"><div class=\"sk-text-repr-fallback\"><pre>LogisticRegression(solver=&#x27;liblinear&#x27;)</pre><b>In a Jupyter environment, please rerun this cell to show the HTML representation or trust the notebook. <br />On GitHub, the HTML representation is unable to render, please try loading this page with nbviewer.org.</b></div><div class=\"sk-container\" hidden><div class=\"sk-item\"><div class=\"sk-estimator sk-toggleable\"><input class=\"sk-toggleable__control sk-hidden--visually\" id=\"sk-estimator-id-26\" type=\"checkbox\" checked><label for=\"sk-estimator-id-26\" class=\"sk-toggleable__label sk-toggleable__label-arrow\">LogisticRegression</label><div class=\"sk-toggleable__content\"><pre>LogisticRegression(solver=&#x27;liblinear&#x27;)</pre></div></div></div></div></div>"
      ],
      "text/plain": [
       "LogisticRegression(solver='liblinear')"
      ]
     },
     "execution_count": 411,
     "metadata": {},
     "output_type": "execute_result"
    }
   ],
   "source": [
    "from sklearn.linear_model import LogisticRegression\n",
    "\n",
    "model = LogisticRegression(solver='liblinear')\n",
    "# model = LogisticRegression(solver='newton-cholesky')\n",
    "model.fit(X_train, y_train)"
   ]
  },
  {
   "cell_type": "code",
   "execution_count": 412,
   "metadata": {},
   "outputs": [
    {
     "data": {
      "text/plain": [
       "array([[0.98354296, 0.01645704],\n",
       "       [0.78620482, 0.21379518],\n",
       "       [0.78164269, 0.21835731],\n",
       "       ...,\n",
       "       [0.34663818, 0.65336182],\n",
       "       [0.80683208, 0.19316792],\n",
       "       [0.87228345, 0.12771655]])"
      ]
     },
     "execution_count": 412,
     "metadata": {},
     "output_type": "execute_result"
    }
   ],
   "source": [
    "val_dict = df_val.to_dict(orient='records')\n",
    "X_val = dv.transform(val_dict)\n",
    "y_pred = model.predict_proba(X_val)\n",
    "y_pred"
   ]
  },
  {
   "cell_type": "code",
   "execution_count": 413,
   "metadata": {},
   "outputs": [
    {
     "data": {
      "text/plain": [
       "array([0.01645704, 0.21379518, 0.21835731, ..., 0.65336182, 0.19316792,\n",
       "       0.12771655])"
      ]
     },
     "execution_count": 413,
     "metadata": {},
     "output_type": "execute_result"
    }
   ],
   "source": [
    "y_pred = model.predict_proba(X_val)[:, 1]\n",
    "y_pred"
   ]
  },
  {
   "cell_type": "code",
   "execution_count": 414,
   "metadata": {},
   "outputs": [
    {
     "data": {
      "text/plain": [
       "array([False, False, False, ...,  True, False, False])"
      ]
     },
     "execution_count": 414,
     "metadata": {},
     "output_type": "execute_result"
    }
   ],
   "source": [
    "churn = y_pred >= 0.5\n",
    "churn"
   ]
  },
  {
   "cell_type": "code",
   "execution_count": 415,
   "metadata": {},
   "outputs": [
    {
     "data": {
      "text/plain": [
       "0.806"
      ]
     },
     "execution_count": 415,
     "metadata": {},
     "output_type": "execute_result"
    }
   ],
   "source": [
    "round((y_val == churn).mean(), 3) "
   ]
  },
  {
   "cell_type": "code",
   "execution_count": 416,
   "metadata": {},
   "outputs": [
    {
     "data": {
      "text/plain": [
       "0.813"
      ]
     },
     "execution_count": 416,
     "metadata": {},
     "output_type": "execute_result"
    }
   ],
   "source": [
    "\n",
    "\n",
    "test_dict = df_test.to_dict(orient='records')\n",
    "X_test = dv.transform(test_dict)\n",
    "y_pred_test = model.predict_proba(X_test)\n",
    "\n",
    "y_pred_test = model.predict_proba(X_test)[:, 1]\n",
    "\n",
    "churn = y_pred_test >= 0.5\n",
    "\n",
    "round((y_test == churn).mean(), 3)  "
   ]
  },
  {
   "cell_type": "code",
   "execution_count": 417,
   "metadata": {},
   "outputs": [
    {
     "name": "stdout",
     "output_type": "stream",
     "text": [
      "0.805\n",
      "0.804\n"
     ]
    }
   ],
   "source": [
    "resultadosVal=[]\n",
    "resultadosTest=[]\n",
    "for i in range(1000):\n",
    "    # dividir datos\n",
    "    df_train_full, df_test,df_train, df_val, y_train, y_val, y_test=dividirDatos(df, randrange(1000))\n",
    "    # randrange(10000)\n",
    "    # entrenar\n",
    "    # model = LogisticRegression(solver='liblinear')\n",
    "    # model.fit(X_train, y_train)\n",
    "\n",
    "    # validacion del entrenamiento\n",
    "    val_dict = df_val.to_dict(orient='records')\n",
    "    X_val = dv.transform(val_dict)\n",
    "    y_pred = model.predict_proba(X_val)\n",
    "    y_pred = model.predict_proba(X_val)[:, 1]\n",
    "    churn = y_pred >= 0.5\n",
    "    resultadosVal.append(round((y_val == churn).mean(), 3))\n",
    "\n",
    "    # test\n",
    "    test_dict = df_test.to_dict(orient='records')\n",
    "    X_test = dv.transform(test_dict)\n",
    "    y_pred_test = model.predict_proba(X_test)\n",
    "\n",
    "    y_pred_test = model.predict_proba(X_test)[:, 1]\n",
    "\n",
    "    churn = y_pred_test >= 0.5\n",
    "\n",
    "    resultadosTest.append(round((y_test == churn).mean(), 3) )\n",
    "\n",
    "mediaVal= np.median(resultadosVal)\n",
    "mediaTest=np.median(resultadosTest)\n",
    "\n",
    "print(mediaVal)\n",
    "print(mediaTest)"
   ]
  },
  {
   "cell_type": "code",
   "execution_count": 418,
   "metadata": {},
   "outputs": [
    {
     "name": "stdout",
     "output_type": "stream",
     "text": [
      "[0.805, 0.805, 0.812, 0.798, 0.795, 0.811, 0.794, 0.806, 0.81, 0.823, 0.805, 0.805, 0.803, 0.798, 0.809, 0.813, 0.819, 0.802, 0.818, 0.801, 0.809, 0.815, 0.801, 0.815, 0.797, 0.803, 0.808, 0.799, 0.81, 0.81, 0.791, 0.805, 0.815, 0.799, 0.802, 0.807, 0.814, 0.813, 0.805, 0.793, 0.795, 0.804, 0.819, 0.808, 0.799, 0.796, 0.802, 0.792, 0.817, 0.819, 0.811, 0.807, 0.805, 0.811, 0.804, 0.803, 0.807, 0.814, 0.812, 0.811, 0.791, 0.817, 0.804, 0.795, 0.795, 0.815, 0.804, 0.804, 0.787, 0.81, 0.804, 0.809, 0.816, 0.799, 0.797, 0.823, 0.808, 0.795, 0.809, 0.812, 0.801, 0.806, 0.806, 0.814, 0.809, 0.793, 0.803, 0.812, 0.797, 0.802, 0.79, 0.794, 0.803, 0.805, 0.807, 0.815, 0.803, 0.81, 0.799, 0.803, 0.794, 0.808, 0.79, 0.802, 0.803, 0.79, 0.802, 0.804, 0.803, 0.806, 0.809, 0.812, 0.809, 0.815, 0.797, 0.808, 0.826, 0.799, 0.816, 0.819, 0.806, 0.812, 0.801, 0.818, 0.819, 0.801, 0.803, 0.808, 0.806, 0.808, 0.809, 0.798, 0.798, 0.821, 0.822, 0.808, 0.804, 0.795, 0.811, 0.811, 0.797, 0.806, 0.82, 0.816, 0.818, 0.805, 0.799, 0.8, 0.803, 0.796, 0.809, 0.805, 0.801, 0.806, 0.808, 0.808, 0.798, 0.804, 0.798, 0.806, 0.803, 0.804, 0.805, 0.81, 0.797, 0.812, 0.807, 0.805, 0.808, 0.802, 0.809, 0.796, 0.797, 0.808, 0.803, 0.805, 0.797, 0.803, 0.81, 0.796, 0.802, 0.808, 0.819, 0.815, 0.804, 0.81, 0.801, 0.815, 0.795, 0.803, 0.805, 0.807, 0.797, 0.816, 0.804, 0.819, 0.81, 0.799, 0.803, 0.805, 0.815, 0.809, 0.812, 0.819, 0.813, 0.803, 0.804, 0.791, 0.803, 0.804, 0.805, 0.816, 0.805, 0.808, 0.818, 0.806, 0.803, 0.788, 0.811, 0.808, 0.806, 0.812, 0.807, 0.823, 0.805, 0.799, 0.796, 0.806, 0.804, 0.803, 0.799, 0.819, 0.794, 0.811, 0.811, 0.796, 0.804, 0.797, 0.79, 0.822, 0.796, 0.807, 0.798, 0.803, 0.796, 0.804, 0.815, 0.811, 0.808, 0.799, 0.8, 0.798, 0.813, 0.812, 0.819, 0.822, 0.808, 0.812, 0.791, 0.798, 0.803, 0.801, 0.796, 0.811, 0.8, 0.808, 0.795, 0.801, 0.809, 0.803, 0.806, 0.818, 0.808, 0.823, 0.807, 0.819, 0.802, 0.806, 0.809, 0.798, 0.815, 0.79, 0.794, 0.808, 0.794, 0.809, 0.788, 0.823, 0.808, 0.806, 0.811, 0.81, 0.813, 0.801, 0.804, 0.794, 0.797, 0.824, 0.799, 0.803, 0.79, 0.813, 0.805, 0.808, 0.805, 0.789, 0.801, 0.804, 0.813, 0.806, 0.799, 0.802, 0.802, 0.806, 0.819, 0.809, 0.793, 0.809, 0.813, 0.824, 0.801, 0.812, 0.811, 0.812, 0.812, 0.798, 0.809, 0.789, 0.796, 0.793, 0.795, 0.807, 0.797, 0.792, 0.795, 0.819, 0.799, 0.805, 0.805, 0.803, 0.805, 0.791, 0.807, 0.809, 0.816, 0.801, 0.793, 0.807, 0.802, 0.796, 0.806, 0.811, 0.811, 0.798, 0.802, 0.806, 0.808, 0.803, 0.823, 0.813, 0.805, 0.798, 0.805, 0.809, 0.81, 0.807, 0.811, 0.812, 0.809, 0.81, 0.811, 0.803, 0.812, 0.815, 0.804, 0.809, 0.812, 0.811, 0.798, 0.81, 0.807, 0.799, 0.803, 0.795, 0.806, 0.804, 0.81, 0.809, 0.797, 0.797, 0.812, 0.811, 0.806, 0.802, 0.805, 0.807, 0.806, 0.798, 0.812, 0.794, 0.806, 0.817, 0.801, 0.803, 0.811, 0.803, 0.814, 0.806, 0.802, 0.816, 0.802, 0.802, 0.789, 0.809, 0.809, 0.808, 0.804, 0.808, 0.81, 0.816, 0.802, 0.791, 0.815, 0.816, 0.804, 0.805, 0.804, 0.797, 0.806, 0.806, 0.804, 0.791, 0.815, 0.81, 0.808, 0.808, 0.793, 0.815, 0.794, 0.79, 0.804, 0.8, 0.804, 0.812, 0.798, 0.805, 0.805, 0.801, 0.815, 0.809, 0.812, 0.817, 0.802, 0.817, 0.796, 0.81, 0.803, 0.81, 0.802, 0.796, 0.805, 0.811, 0.808, 0.817, 0.81, 0.787, 0.805, 0.8, 0.798, 0.796, 0.798, 0.798, 0.806, 0.796, 0.811, 0.807, 0.799, 0.807, 0.818, 0.8, 0.791, 0.809, 0.804, 0.811, 0.793, 0.795, 0.816, 0.809, 0.803, 0.814, 0.822, 0.809, 0.814, 0.815, 0.808, 0.806, 0.798, 0.81, 0.802, 0.817, 0.8, 0.805, 0.797, 0.807, 0.809, 0.792, 0.798, 0.804, 0.817, 0.801, 0.81, 0.794, 0.817, 0.817, 0.791, 0.803, 0.809, 0.798, 0.807, 0.802, 0.812, 0.808, 0.807, 0.797, 0.792, 0.815, 0.814, 0.792, 0.803, 0.814, 0.804, 0.802, 0.809, 0.804, 0.807, 0.795, 0.809, 0.806, 0.791, 0.812, 0.81, 0.795, 0.801, 0.814, 0.804, 0.792, 0.795, 0.809, 0.801, 0.803, 0.797, 0.792, 0.81, 0.802, 0.804, 0.802, 0.804, 0.803, 0.804, 0.812, 0.81, 0.804, 0.799, 0.804, 0.797, 0.796, 0.804, 0.799, 0.82, 0.797, 0.807, 0.809, 0.81, 0.8, 0.8, 0.812, 0.8, 0.808, 0.803, 0.789, 0.8, 0.815, 0.801, 0.822, 0.794, 0.795, 0.811, 0.808, 0.799, 0.819, 0.809, 0.803, 0.807, 0.802, 0.799, 0.808, 0.809, 0.791, 0.807, 0.802, 0.812, 0.81, 0.804, 0.806, 0.791, 0.802, 0.817, 0.811, 0.808, 0.816, 0.808, 0.807, 0.79, 0.809, 0.798, 0.825, 0.802, 0.795, 0.825, 0.81, 0.796, 0.813, 0.804, 0.792, 0.816, 0.805, 0.807, 0.798, 0.812, 0.81, 0.809, 0.792, 0.803, 0.806, 0.809, 0.814, 0.795, 0.808, 0.802, 0.803, 0.803, 0.807, 0.811, 0.802, 0.809, 0.817, 0.807, 0.803, 0.795, 0.808, 0.799, 0.805, 0.815, 0.811, 0.811, 0.81, 0.804, 0.799, 0.806, 0.812, 0.809, 0.797, 0.806, 0.806, 0.804, 0.809, 0.811, 0.809, 0.816, 0.796, 0.797, 0.796, 0.824, 0.809, 0.803, 0.804, 0.808, 0.796, 0.812, 0.808, 0.825, 0.803, 0.806, 0.821, 0.792, 0.804, 0.812, 0.804, 0.79, 0.809, 0.812, 0.809, 0.797, 0.809, 0.805, 0.81, 0.809, 0.806, 0.812, 0.803, 0.816, 0.809, 0.812, 0.804, 0.796, 0.818, 0.805, 0.797, 0.808, 0.787, 0.802, 0.802, 0.802, 0.793, 0.806, 0.808, 0.794, 0.792, 0.803, 0.819, 0.8, 0.807, 0.817, 0.802, 0.818, 0.812, 0.813, 0.82, 0.803, 0.815, 0.804, 0.811, 0.8, 0.806, 0.8, 0.813, 0.802, 0.803, 0.8, 0.812, 0.799, 0.806, 0.809, 0.815, 0.799, 0.798, 0.807, 0.804, 0.819, 0.802, 0.805, 0.798, 0.797, 0.809, 0.804, 0.817, 0.796, 0.805, 0.812, 0.813, 0.817, 0.799, 0.797, 0.812, 0.796, 0.799, 0.805, 0.8, 0.805, 0.813, 0.818, 0.802, 0.815, 0.795, 0.812, 0.8, 0.817, 0.802, 0.814, 0.794, 0.792, 0.798, 0.806, 0.793, 0.807, 0.798, 0.824, 0.822, 0.809, 0.802, 0.808, 0.795, 0.804, 0.815, 0.797, 0.806, 0.803, 0.791, 0.796, 0.801, 0.823, 0.802, 0.805, 0.808, 0.803, 0.809, 0.797, 0.816, 0.803, 0.803, 0.796, 0.798, 0.807, 0.795, 0.797, 0.802, 0.803, 0.809, 0.809, 0.807, 0.796, 0.805, 0.813, 0.796, 0.802, 0.797, 0.804, 0.81, 0.808, 0.792, 0.803, 0.808, 0.81, 0.797, 0.801, 0.815, 0.803, 0.822, 0.8, 0.798, 0.798, 0.803, 0.809, 0.787, 0.804, 0.802, 0.809, 0.802, 0.794, 0.812, 0.792, 0.811, 0.805, 0.798, 0.797, 0.797, 0.804, 0.809, 0.805, 0.796, 0.812, 0.791, 0.804, 0.809, 0.812, 0.807, 0.797, 0.797, 0.805, 0.809, 0.805, 0.812, 0.806, 0.802, 0.797, 0.802, 0.791, 0.804, 0.793, 0.812, 0.791, 0.809, 0.802, 0.804, 0.801, 0.797, 0.811, 0.79, 0.805, 0.808, 0.815, 0.799, 0.795, 0.801, 0.807, 0.798, 0.81, 0.803, 0.789, 0.814, 0.808, 0.818, 0.809, 0.803, 0.813, 0.808, 0.809, 0.807, 0.79, 0.805, 0.797, 0.812, 0.802, 0.809, 0.798, 0.792, 0.809, 0.814, 0.795, 0.817, 0.796, 0.816, 0.808, 0.794, 0.794, 0.806, 0.824, 0.792, 0.808, 0.81, 0.811, 0.813, 0.81, 0.793, 0.81, 0.812, 0.804, 0.804, 0.81, 0.813, 0.803, 0.819, 0.795, 0.805, 0.805, 0.808, 0.798, 0.802, 0.812, 0.792, 0.803, 0.817, 0.801, 0.805, 0.812, 0.811, 0.807, 0.8, 0.801, 0.808, 0.815, 0.807, 0.809, 0.794, 0.807, 0.793, 0.818, 0.805, 0.807, 0.802, 0.81, 0.812, 0.797, 0.813, 0.811, 0.806, 0.799, 0.801, 0.795, 0.788, 0.808, 0.806, 0.796, 0.803, 0.801, 0.807, 0.808, 0.802, 0.808, 0.8, 0.807, 0.815, 0.8, 0.802, 0.809, 0.797, 0.8, 0.812, 0.795, 0.809] 1000\n"
     ]
    }
   ],
   "source": [
    "print(resultadosVal, len(resultadosVal))"
   ]
  },
  {
   "cell_type": "code",
   "execution_count": 419,
   "metadata": {},
   "outputs": [
    {
     "name": "stdout",
     "output_type": "stream",
     "text": [
      "[0.797, 0.808, 0.803, 0.801, 0.793, 0.805, 0.82, 0.801, 0.801, 0.781, 0.784, 0.807, 0.823, 0.817, 0.801, 0.813, 0.789, 0.811, 0.807, 0.808, 0.787, 0.801, 0.807, 0.806, 0.806, 0.817, 0.791, 0.801, 0.798, 0.802, 0.809, 0.802, 0.788, 0.799, 0.809, 0.796, 0.815, 0.796, 0.793, 0.813, 0.811, 0.792, 0.788, 0.811, 0.811, 0.812, 0.809, 0.812, 0.801, 0.773, 0.788, 0.803, 0.803, 0.808, 0.785, 0.801, 0.805, 0.815, 0.806, 0.806, 0.806, 0.823, 0.806, 0.811, 0.811, 0.806, 0.809, 0.808, 0.813, 0.808, 0.813, 0.811, 0.796, 0.802, 0.811, 0.813, 0.811, 0.811, 0.801, 0.789, 0.807, 0.806, 0.816, 0.799, 0.796, 0.815, 0.808, 0.816, 0.789, 0.806, 0.82, 0.817, 0.813, 0.815, 0.796, 0.805, 0.801, 0.794, 0.815, 0.827, 0.794, 0.82, 0.82, 0.816, 0.803, 0.791, 0.806, 0.801, 0.803, 0.824, 0.801, 0.813, 0.8, 0.795, 0.796, 0.793, 0.787, 0.799, 0.804, 0.806, 0.801, 0.801, 0.823, 0.781, 0.773, 0.801, 0.816, 0.816, 0.803, 0.8, 0.799, 0.79, 0.8, 0.791, 0.799, 0.805, 0.822, 0.818, 0.797, 0.809, 0.809, 0.8, 0.813, 0.796, 0.791, 0.791, 0.824, 0.82, 0.813, 0.813, 0.806, 0.815, 0.789, 0.803, 0.798, 0.796, 0.825, 0.809, 0.812, 0.811, 0.813, 0.805, 0.817, 0.806, 0.819, 0.798, 0.807, 0.805, 0.807, 0.803, 0.811, 0.813, 0.81, 0.806, 0.798, 0.803, 0.792, 0.812, 0.791, 0.798, 0.81, 0.813, 0.796, 0.813, 0.801, 0.82, 0.813, 0.813, 0.811, 0.803, 0.817, 0.807, 0.806, 0.791, 0.789, 0.794, 0.803, 0.82, 0.815, 0.808, 0.795, 0.793, 0.795, 0.773, 0.789, 0.823, 0.798, 0.813, 0.813, 0.801, 0.797, 0.806, 0.813, 0.813, 0.803, 0.809, 0.81, 0.811, 0.788, 0.806, 0.803, 0.803, 0.817, 0.788, 0.81, 0.815, 0.801, 0.801, 0.813, 0.798, 0.803, 0.806, 0.807, 0.788, 0.788, 0.813, 0.801, 0.809, 0.82, 0.801, 0.813, 0.809, 0.811, 0.82, 0.798, 0.808, 0.804, 0.788, 0.781, 0.807, 0.795, 0.816, 0.805, 0.816, 0.8, 0.801, 0.808, 0.788, 0.808, 0.81, 0.813, 0.809, 0.813, 0.8, 0.795, 0.791, 0.8, 0.806, 0.8, 0.811, 0.801, 0.807, 0.8, 0.795, 0.793, 0.789, 0.793, 0.796, 0.808, 0.801, 0.784, 0.814, 0.819, 0.8, 0.801, 0.806, 0.805, 0.788, 0.784, 0.799, 0.816, 0.798, 0.81, 0.811, 0.807, 0.807, 0.801, 0.796, 0.799, 0.803, 0.814, 0.806, 0.806, 0.805, 0.815, 0.82, 0.818, 0.805, 0.808, 0.824, 0.805, 0.789, 0.813, 0.809, 0.8, 0.8, 0.809, 0.803, 0.792, 0.796, 0.813, 0.8, 0.8, 0.788, 0.805, 0.796, 0.786, 0.822, 0.813, 0.806, 0.806, 0.806, 0.799, 0.824, 0.811, 0.794, 0.8, 0.801, 0.8, 0.798, 0.784, 0.803, 0.804, 0.807, 0.804, 0.792, 0.813, 0.806, 0.81, 0.807, 0.803, 0.811, 0.788, 0.815, 0.8, 0.816, 0.813, 0.803, 0.795, 0.802, 0.8, 0.783, 0.815, 0.804, 0.789, 0.803, 0.811, 0.811, 0.81, 0.79, 0.82, 0.8, 0.797, 0.814, 0.817, 0.806, 0.786, 0.809, 0.801, 0.827, 0.791, 0.803, 0.798, 0.81, 0.798, 0.799, 0.799, 0.8, 0.81, 0.815, 0.804, 0.813, 0.825, 0.808, 0.797, 0.806, 0.799, 0.813, 0.795, 0.808, 0.789, 0.793, 0.809, 0.804, 0.813, 0.813, 0.802, 0.798, 0.812, 0.794, 0.81, 0.807, 0.792, 0.792, 0.806, 0.8, 0.808, 0.799, 0.791, 0.794, 0.792, 0.805, 0.795, 0.788, 0.806, 0.806, 0.787, 0.818, 0.806, 0.806, 0.822, 0.816, 0.804, 0.793, 0.784, 0.808, 0.808, 0.804, 0.798, 0.813, 0.81, 0.808, 0.809, 0.811, 0.811, 0.808, 0.796, 0.805, 0.801, 0.814, 0.791, 0.802, 0.806, 0.808, 0.803, 0.802, 0.79, 0.82, 0.791, 0.806, 0.791, 0.805, 0.822, 0.8, 0.796, 0.813, 0.801, 0.804, 0.814, 0.809, 0.814, 0.806, 0.803, 0.805, 0.791, 0.793, 0.805, 0.805, 0.781, 0.798, 0.798, 0.805, 0.817, 0.806, 0.813, 0.807, 0.793, 0.811, 0.813, 0.793, 0.808, 0.806, 0.786, 0.8, 0.796, 0.8, 0.811, 0.793, 0.801, 0.823, 0.798, 0.792, 0.818, 0.796, 0.798, 0.805, 0.806, 0.813, 0.808, 0.814, 0.801, 0.794, 0.811, 0.808, 0.806, 0.801, 0.814, 0.81, 0.796, 0.819, 0.805, 0.794, 0.804, 0.806, 0.82, 0.814, 0.788, 0.824, 0.811, 0.798, 0.801, 0.813, 0.818, 0.803, 0.802, 0.807, 0.801, 0.789, 0.806, 0.804, 0.791, 0.81, 0.791, 0.798, 0.798, 0.807, 0.803, 0.808, 0.793, 0.813, 0.808, 0.818, 0.808, 0.812, 0.808, 0.81, 0.797, 0.793, 0.811, 0.806, 0.806, 0.803, 0.799, 0.79, 0.803, 0.812, 0.793, 0.805, 0.813, 0.789, 0.824, 0.811, 0.801, 0.813, 0.813, 0.804, 0.803, 0.812, 0.813, 0.831, 0.803, 0.798, 0.807, 0.808, 0.813, 0.811, 0.797, 0.806, 0.813, 0.799, 0.803, 0.813, 0.804, 0.791, 0.796, 0.811, 0.803, 0.801, 0.809, 0.811, 0.796, 0.806, 0.805, 0.801, 0.807, 0.803, 0.808, 0.784, 0.797, 0.803, 0.803, 0.813, 0.811, 0.796, 0.801, 0.8, 0.791, 0.793, 0.8, 0.808, 0.802, 0.802, 0.801, 0.805, 0.804, 0.797, 0.803, 0.79, 0.799, 0.8, 0.798, 0.807, 0.797, 0.8, 0.796, 0.815, 0.807, 0.803, 0.806, 0.805, 0.797, 0.81, 0.813, 0.823, 0.803, 0.811, 0.805, 0.8, 0.812, 0.813, 0.808, 0.818, 0.802, 0.813, 0.803, 0.802, 0.82, 0.808, 0.802, 0.798, 0.81, 0.809, 0.807, 0.801, 0.792, 0.798, 0.806, 0.806, 0.803, 0.806, 0.818, 0.813, 0.796, 0.792, 0.817, 0.803, 0.794, 0.796, 0.813, 0.796, 0.8, 0.798, 0.801, 0.799, 0.82, 0.809, 0.806, 0.8, 0.811, 0.808, 0.797, 0.814, 0.813, 0.793, 0.8, 0.806, 0.806, 0.825, 0.8, 0.818, 0.794, 0.806, 0.816, 0.797, 0.806, 0.803, 0.804, 0.789, 0.8, 0.81, 0.809, 0.796, 0.813, 0.814, 0.793, 0.781, 0.798, 0.788, 0.811, 0.803, 0.794, 0.779, 0.819, 0.808, 0.808, 0.788, 0.81, 0.781, 0.797, 0.788, 0.801, 0.796, 0.808, 0.801, 0.825, 0.806, 0.792, 0.818, 0.803, 0.799, 0.803, 0.793, 0.784, 0.795, 0.82, 0.792, 0.802, 0.804, 0.806, 0.798, 0.791, 0.792, 0.793, 0.796, 0.804, 0.811, 0.809, 0.801, 0.803, 0.81, 0.791, 0.805, 0.813, 0.794, 0.806, 0.818, 0.799, 0.798, 0.785, 0.791, 0.806, 0.808, 0.803, 0.815, 0.813, 0.813, 0.791, 0.791, 0.798, 0.817, 0.812, 0.823, 0.804, 0.809, 0.795, 0.806, 0.787, 0.794, 0.792, 0.803, 0.807, 0.798, 0.804, 0.814, 0.796, 0.811, 0.82, 0.807, 0.805, 0.821, 0.789, 0.818, 0.803, 0.796, 0.815, 0.784, 0.803, 0.804, 0.82, 0.803, 0.801, 0.813, 0.791, 0.798, 0.81, 0.806, 0.823, 0.826, 0.805, 0.806, 0.796, 0.8, 0.809, 0.797, 0.803, 0.799, 0.799, 0.803, 0.805, 0.788, 0.8, 0.797, 0.827, 0.819, 0.801, 0.801, 0.816, 0.81, 0.82, 0.79, 0.799, 0.807, 0.792, 0.81, 0.79, 0.798, 0.798, 0.813, 0.803, 0.796, 0.818, 0.811, 0.793, 0.796, 0.792, 0.803, 0.804, 0.792, 0.796, 0.806, 0.79, 0.816, 0.798, 0.811, 0.793, 0.807, 0.819, 0.806, 0.808, 0.804, 0.808, 0.816, 0.796, 0.793, 0.792, 0.792, 0.806, 0.822, 0.809, 0.804, 0.816, 0.801, 0.812, 0.806, 0.791, 0.799, 0.806, 0.82, 0.811, 0.806, 0.804, 0.824, 0.807, 0.789, 0.818, 0.806, 0.808, 0.803, 0.831, 0.805, 0.799, 0.781, 0.807, 0.801, 0.81, 0.803, 0.804, 0.804, 0.803, 0.805, 0.798, 0.801, 0.823, 0.798, 0.806, 0.82, 0.8, 0.802, 0.803, 0.793, 0.809, 0.802, 0.798, 0.819, 0.808, 0.807, 0.787, 0.811, 0.797, 0.785, 0.797, 0.814, 0.813, 0.813, 0.822, 0.805, 0.808, 0.799, 0.798, 0.801, 0.813, 0.815, 0.803, 0.81, 0.797, 0.806, 0.79, 0.81, 0.801, 0.821, 0.801, 0.8, 0.817, 0.791, 0.795, 0.796, 0.81, 0.798, 0.791, 0.797, 0.806, 0.809, 0.792, 0.797, 0.779, 0.806, 0.802, 0.781, 0.803, 0.806, 0.799, 0.803, 0.803, 0.802, 0.805, 0.803, 0.803, 0.799, 0.811, 0.805, 0.797, 0.799, 0.809, 0.808, 0.81, 0.791, 0.804, 0.802, 0.804, 0.823, 0.802, 0.805, 0.82, 0.802, 0.799, 0.801, 0.825, 0.813, 0.802, 0.796]\n"
     ]
    }
   ],
   "source": [
    "print(resultadosTest)"
   ]
  }
 ],
 "metadata": {
  "kernelspec": {
   "display_name": ".venv",
   "language": "python",
   "name": "python3"
  },
  "language_info": {
   "codemirror_mode": {
    "name": "ipython",
    "version": 3
   },
   "file_extension": ".py",
   "mimetype": "text/x-python",
   "name": "python",
   "nbconvert_exporter": "python",
   "pygments_lexer": "ipython3",
   "version": "3.9.15"
  },
  "orig_nbformat": 4,
  "vscode": {
   "interpreter": {
    "hash": "8abbc8ae521b68432ed66162eb4b2c720d37e71aecc9177da407a51756fbcd3f"
   }
  }
 },
 "nbformat": 4,
 "nbformat_minor": 2
}
